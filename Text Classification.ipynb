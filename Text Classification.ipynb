{
 "cells": [
  {
   "cell_type": "code",
   "execution_count": 2,
   "metadata": {},
   "outputs": [
    {
     "name": "stdout",
     "output_type": "stream",
     "text": [
      "1.9.0\n"
     ]
    }
   ],
   "source": [
    "import tensorflow as tf\n",
    "from tensorflow import keras\n",
    "\n",
    "import numpy as np\n",
    "\n",
    "print(tf.__version__)"
   ]
  },
  {
   "cell_type": "code",
   "execution_count": 3,
   "metadata": {},
   "outputs": [
    {
     "name": "stdout",
     "output_type": "stream",
     "text": [
      "Downloading data from https://s3.amazonaws.com/text-datasets/imdb.npz\n",
      "17465344/17464789 [==============================] - 4s 0us/step\n"
     ]
    }
   ],
   "source": [
    "imdb = keras.datasets.imdb\n",
    "\n",
    "(train_data, train_labels), (test_data, test_labels) = imdb.load_data(num_words=10000)"
   ]
  },
  {
   "cell_type": "code",
   "execution_count": 6,
   "metadata": {},
   "outputs": [
    {
     "name": "stdout",
     "output_type": "stream",
     "text": [
      "Training entries: 25000, labels: 25000\n"
     ]
    }
   ],
   "source": [
    "print(\"Training entries: {}, labels: {}\".format(len(train_data), len(train_labels)))"
   ]
  },
  {
   "cell_type": "code",
   "execution_count": 7,
   "metadata": {},
   "outputs": [
    {
     "name": "stdout",
     "output_type": "stream",
     "text": [
      "[1, 14, 22, 16, 43, 530, 973, 1622, 1385, 65, 458, 4468, 66, 3941, 4, 173, 36, 256, 5, 25, 100, 43, 838, 112, 50, 670, 2, 9, 35, 480, 284, 5, 150, 4, 172, 112, 167, 2, 336, 385, 39, 4, 172, 4536, 1111, 17, 546, 38, 13, 447, 4, 192, 50, 16, 6, 147, 2025, 19, 14, 22, 4, 1920, 4613, 469, 4, 22, 71, 87, 12, 16, 43, 530, 38, 76, 15, 13, 1247, 4, 22, 17, 515, 17, 12, 16, 626, 18, 2, 5, 62, 386, 12, 8, 316, 8, 106, 5, 4, 2223, 5244, 16, 480, 66, 3785, 33, 4, 130, 12, 16, 38, 619, 5, 25, 124, 51, 36, 135, 48, 25, 1415, 33, 6, 22, 12, 215, 28, 77, 52, 5, 14, 407, 16, 82, 2, 8, 4, 107, 117, 5952, 15, 256, 4, 2, 7, 3766, 5, 723, 36, 71, 43, 530, 476, 26, 400, 317, 46, 7, 4, 2, 1029, 13, 104, 88, 4, 381, 15, 297, 98, 32, 2071, 56, 26, 141, 6, 194, 7486, 18, 4, 226, 22, 21, 134, 476, 26, 480, 5, 144, 30, 5535, 18, 51, 36, 28, 224, 92, 25, 104, 4, 226, 65, 16, 38, 1334, 88, 12, 16, 283, 5, 16, 4472, 113, 103, 32, 15, 16, 5345, 19, 178, 32]\n"
     ]
    }
   ],
   "source": [
    "print(train_data[0])"
   ]
  },
  {
   "cell_type": "code",
   "execution_count": 8,
   "metadata": {},
   "outputs": [
    {
     "data": {
      "text/plain": [
       "(218, 189)"
      ]
     },
     "execution_count": 8,
     "metadata": {},
     "output_type": "execute_result"
    }
   ],
   "source": [
    "len(train_data[0]), len(train_data[1])"
   ]
  },
  {
   "cell_type": "code",
   "execution_count": 9,
   "metadata": {},
   "outputs": [
    {
     "name": "stdout",
     "output_type": "stream",
     "text": [
      "Downloading data from https://s3.amazonaws.com/text-datasets/imdb_word_index.json\n",
      "1646592/1641221 [==============================] - 1s 1us/step\n"
     ]
    }
   ],
   "source": [
    "word_index = imdb.get_word_index()"
   ]
  },
  {
   "cell_type": "code",
   "execution_count": 11,
   "metadata": {},
   "outputs": [
    {
     "data": {
      "text/plain": [
       "\"<START> this film was just brilliant casting location scenery story direction everyone's really suited the part they played and you could just imagine being there robert <UNK> is an amazing actor and now the same being director <UNK> father came from the same scottish island as myself so i loved the fact there was a real connection with this film the witty remarks throughout the film were great it was just brilliant so much that i bought the film as soon as it was released for <UNK> and would recommend it to everyone to watch and the fly fishing was amazing really cried at the end it was so sad and you know what they say if you cry at a film it must have been good and this definitely was also <UNK> to the two little boy's that played the <UNK> of norman and paul they were just brilliant children are often left out of the <UNK> list i think because the stars that play them all grown up are such a big profile for the whole film but these children are amazing and should be praised for what they have done don't you think the whole story was so lovely because it was true and was someone's life after all that was shared with us all\""
      ]
     },
     "execution_count": 11,
     "metadata": {},
     "output_type": "execute_result"
    }
   ],
   "source": [
    "word_index\n",
    "word_index = {k:(v+3) for k,v in word_index.items()} \n",
    "word_index[\"<PAD>\"] = 0\n",
    "word_index[\"<START>\"] = 1\n",
    "word_index[\"<UNK>\"] = 2  # unknown\n",
    "word_index[\"<UNUSED>\"] = 3\n",
    "reverse_word_index = dict([(value, key) for (key, value) in word_index.items()])\n",
    "\n",
    "def decode_review(text):\n",
    "    return ' '.join([reverse_word_index.get(i, '?') for i in text])\n",
    "\n",
    "decode_review(train_data[0])"
   ]
  },
  {
   "cell_type": "code",
   "execution_count": 17,
   "metadata": {},
   "outputs": [],
   "source": [
    "train_data = keras.preprocessing.sequence.pad_sequences(train_data,\n",
    "                                          value = word_index['<PAD>'],\n",
    "                                          padding = 'post',\n",
    "                                          maxlen=256)\n",
    "test_data = keras.preprocessing.sequence.pad_sequences(test_data,\n",
    "                                         value = word_index['<PAD>'],\n",
    "                                         padding = 'post',\n",
    "                                         maxlen = 256)"
   ]
  },
  {
   "cell_type": "code",
   "execution_count": 18,
   "metadata": {},
   "outputs": [
    {
     "data": {
      "text/plain": [
       "(256, 256)"
      ]
     },
     "execution_count": 18,
     "metadata": {},
     "output_type": "execute_result"
    }
   ],
   "source": [
    "len(train_data[0]), len(train_data[1])"
   ]
  },
  {
   "cell_type": "code",
   "execution_count": 19,
   "metadata": {},
   "outputs": [
    {
     "name": "stdout",
     "output_type": "stream",
     "text": [
      "[   1   14   22   16   43  530  973 1622 1385   65  458 4468   66 3941\n",
      "    4  173   36  256    5   25  100   43  838  112   50  670    2    9\n",
      "   35  480  284    5  150    4  172  112  167    2  336  385   39    4\n",
      "  172 4536 1111   17  546   38   13  447    4  192   50   16    6  147\n",
      " 2025   19   14   22    4 1920 4613  469    4   22   71   87   12   16\n",
      "   43  530   38   76   15   13 1247    4   22   17  515   17   12   16\n",
      "  626   18    2    5   62  386   12    8  316    8  106    5    4 2223\n",
      " 5244   16  480   66 3785   33    4  130   12   16   38  619    5   25\n",
      "  124   51   36  135   48   25 1415   33    6   22   12  215   28   77\n",
      "   52    5   14  407   16   82    2    8    4  107  117 5952   15  256\n",
      "    4    2    7 3766    5  723   36   71   43  530  476   26  400  317\n",
      "   46    7    4    2 1029   13  104   88    4  381   15  297   98   32\n",
      " 2071   56   26  141    6  194 7486   18    4  226   22   21  134  476\n",
      "   26  480    5  144   30 5535   18   51   36   28  224   92   25  104\n",
      "    4  226   65   16   38 1334   88   12   16  283    5   16 4472  113\n",
      "  103   32   15   16 5345   19  178   32    0    0    0    0    0    0\n",
      "    0    0    0    0    0    0    0    0    0    0    0    0    0    0\n",
      "    0    0    0    0    0    0    0    0    0    0    0    0    0    0\n",
      "    0    0    0    0]\n"
     ]
    }
   ],
   "source": [
    "print(train_data[0])"
   ]
  },
  {
   "cell_type": "code",
   "execution_count": 21,
   "metadata": {},
   "outputs": [
    {
     "name": "stdout",
     "output_type": "stream",
     "text": [
      "_________________________________________________________________\n",
      "Layer (type)                 Output Shape              Param #   \n",
      "=================================================================\n",
      "embedding (Embedding)        (None, None, 16)          160000    \n",
      "_________________________________________________________________\n",
      "global_average_pooling1d (Gl (None, 16)                0         \n",
      "_________________________________________________________________\n",
      "dense (Dense)                (None, 16)                272       \n",
      "_________________________________________________________________\n",
      "dense_1 (Dense)              (None, 1)                 17        \n",
      "=================================================================\n",
      "Total params: 160,289\n",
      "Trainable params: 160,289\n",
      "Non-trainable params: 0\n",
      "_________________________________________________________________\n"
     ]
    }
   ],
   "source": [
    "vocab_size = 10000\n",
    "model = keras.Sequential()\n",
    "model.add(keras.layers.Embedding(vocab_size, 16))\n",
    "model.add(keras.layers.GlobalAveragePooling1D())\n",
    "model.add(keras.layers.Dense(16, activation = tf.nn.relu))\n",
    "model.add(keras.layers.Dense(1, activation = tf.nn.sigmoid))\n",
    "model.summary()"
   ]
  },
  {
   "cell_type": "code",
   "execution_count": 22,
   "metadata": {},
   "outputs": [],
   "source": [
    "model.compile(optimizer=tf.train.AdamOptimizer(),\n",
    "              loss='binary_crossentropy',\n",
    "              metrics=['accuracy'])"
   ]
  },
  {
   "cell_type": "code",
   "execution_count": 23,
   "metadata": {},
   "outputs": [],
   "source": [
    "x_val = train_data[:10000]\n",
    "partial_x_train = train_data[10000:]\n",
    "\n",
    "y_val = train_labels[:10000]\n",
    "partial_y_train = train_labels[10000:]"
   ]
  },
  {
   "cell_type": "code",
   "execution_count": 24,
   "metadata": {},
   "outputs": [
    {
     "name": "stdout",
     "output_type": "stream",
     "text": [
      "Train on 15000 samples, validate on 10000 samples\n",
      "Epoch 1/40\n",
      "15000/15000 [==============================] - 1s 67us/step - loss: 0.7088 - acc: 0.5119 - val_loss: 0.6943 - val_acc: 0.5117\n",
      "Epoch 2/40\n",
      "15000/15000 [==============================] - 1s 43us/step - loss: 0.6925 - acc: 0.5105 - val_loss: 0.6916 - val_acc: 0.5152\n",
      "Epoch 3/40\n",
      "15000/15000 [==============================] - 1s 43us/step - loss: 0.6905 - acc: 0.5301 - val_loss: 0.6900 - val_acc: 0.5528\n",
      "Epoch 4/40\n",
      "15000/15000 [==============================] - 1s 44us/step - loss: 0.6878 - acc: 0.5960 - val_loss: 0.6872 - val_acc: 0.6109\n",
      "Epoch 5/40\n",
      "15000/15000 [==============================] - 1s 48us/step - loss: 0.6846 - acc: 0.6339 - val_loss: 0.6839 - val_acc: 0.6600\n",
      "Epoch 6/40\n",
      "15000/15000 [==============================] - 1s 45us/step - loss: 0.6808 - acc: 0.7083 - val_loss: 0.6800 - val_acc: 0.7041\n",
      "Epoch 7/40\n",
      "15000/15000 [==============================] - 1s 43us/step - loss: 0.6759 - acc: 0.7420 - val_loss: 0.6752 - val_acc: 0.6910\n",
      "Epoch 8/40\n",
      "15000/15000 [==============================] - 1s 47us/step - loss: 0.6696 - acc: 0.7479 - val_loss: 0.6685 - val_acc: 0.7335\n",
      "Epoch 9/40\n",
      "15000/15000 [==============================] - 1s 46us/step - loss: 0.6613 - acc: 0.7623 - val_loss: 0.6601 - val_acc: 0.7461\n",
      "Epoch 10/40\n",
      "15000/15000 [==============================] - 1s 45us/step - loss: 0.6507 - acc: 0.7681 - val_loss: 0.6491 - val_acc: 0.7529\n",
      "Epoch 11/40\n",
      "15000/15000 [==============================] - 1s 46us/step - loss: 0.6379 - acc: 0.7623 - val_loss: 0.6361 - val_acc: 0.7577\n",
      "Epoch 12/40\n",
      "15000/15000 [==============================] - 1s 44us/step - loss: 0.6218 - acc: 0.7782 - val_loss: 0.6206 - val_acc: 0.7639\n",
      "Epoch 13/40\n",
      "15000/15000 [==============================] - 1s 47us/step - loss: 0.6030 - acc: 0.7870 - val_loss: 0.6038 - val_acc: 0.7606\n",
      "Epoch 14/40\n",
      "15000/15000 [==============================] - 1s 46us/step - loss: 0.5809 - acc: 0.7981 - val_loss: 0.5808 - val_acc: 0.7816\n",
      "Epoch 15/40\n",
      "15000/15000 [==============================] - 1s 45us/step - loss: 0.5557 - acc: 0.8075 - val_loss: 0.5573 - val_acc: 0.7922\n",
      "Epoch 16/40\n",
      "15000/15000 [==============================] - 1s 46us/step - loss: 0.5304 - acc: 0.8140 - val_loss: 0.5343 - val_acc: 0.8018\n",
      "Epoch 17/40\n",
      "15000/15000 [==============================] - 1s 48us/step - loss: 0.5040 - acc: 0.8268 - val_loss: 0.5115 - val_acc: 0.8120\n",
      "Epoch 18/40\n",
      "15000/15000 [==============================] - 1s 45us/step - loss: 0.4785 - acc: 0.8375 - val_loss: 0.4887 - val_acc: 0.8202\n",
      "Epoch 19/40\n",
      "15000/15000 [==============================] - 1s 45us/step - loss: 0.4540 - acc: 0.8461 - val_loss: 0.4674 - val_acc: 0.8282\n",
      "Epoch 20/40\n",
      "15000/15000 [==============================] - 1s 46us/step - loss: 0.4310 - acc: 0.8537 - val_loss: 0.4476 - val_acc: 0.8356\n",
      "Epoch 21/40\n",
      "15000/15000 [==============================] - 1s 45us/step - loss: 0.4091 - acc: 0.8638 - val_loss: 0.4294 - val_acc: 0.8417\n",
      "Epoch 22/40\n",
      "15000/15000 [==============================] - 1s 46us/step - loss: 0.3893 - acc: 0.8691 - val_loss: 0.4131 - val_acc: 0.8479\n",
      "Epoch 23/40\n",
      "15000/15000 [==============================] - 1s 74us/step - loss: 0.3715 - acc: 0.8761 - val_loss: 0.3987 - val_acc: 0.8497\n",
      "Epoch 24/40\n",
      "15000/15000 [==============================] - 1s 63us/step - loss: 0.3550 - acc: 0.8804 - val_loss: 0.3858 - val_acc: 0.8533\n",
      "Epoch 25/40\n",
      "15000/15000 [==============================] - 1s 55us/step - loss: 0.3403 - acc: 0.8860 - val_loss: 0.3745 - val_acc: 0.8569\n",
      "Epoch 26/40\n",
      "15000/15000 [==============================] - 1s 59us/step - loss: 0.3269 - acc: 0.8891 - val_loss: 0.3647 - val_acc: 0.8596\n",
      "Epoch 27/40\n",
      "15000/15000 [==============================] - 1s 65us/step - loss: 0.3150 - acc: 0.8913 - val_loss: 0.3557 - val_acc: 0.8637\n",
      "Epoch 28/40\n",
      "15000/15000 [==============================] - 1s 55us/step - loss: 0.3037 - acc: 0.8951 - val_loss: 0.3478 - val_acc: 0.8659\n",
      "Epoch 29/40\n",
      "15000/15000 [==============================] - 1s 58us/step - loss: 0.2937 - acc: 0.8989 - val_loss: 0.3413 - val_acc: 0.8686\n",
      "Epoch 30/40\n",
      "15000/15000 [==============================] - 1s 50us/step - loss: 0.2850 - acc: 0.8999 - val_loss: 0.3350 - val_acc: 0.8689\n",
      "Epoch 31/40\n",
      "15000/15000 [==============================] - 1s 47us/step - loss: 0.2758 - acc: 0.9039 - val_loss: 0.3298 - val_acc: 0.8706\n",
      "Epoch 32/40\n",
      "15000/15000 [==============================] - 1s 55us/step - loss: 0.2684 - acc: 0.9045 - val_loss: 0.3249 - val_acc: 0.8726\n",
      "Epoch 33/40\n",
      "15000/15000 [==============================] - 1s 56us/step - loss: 0.2604 - acc: 0.9096 - val_loss: 0.3207 - val_acc: 0.8739\n",
      "Epoch 34/40\n",
      "15000/15000 [==============================] - 1s 49us/step - loss: 0.2534 - acc: 0.9117 - val_loss: 0.3168 - val_acc: 0.8747\n",
      "Epoch 35/40\n",
      "15000/15000 [==============================] - 1s 48us/step - loss: 0.2472 - acc: 0.9133 - val_loss: 0.3133 - val_acc: 0.8760\n",
      "Epoch 36/40\n",
      "15000/15000 [==============================] - 1s 52us/step - loss: 0.2405 - acc: 0.9159 - val_loss: 0.3102 - val_acc: 0.8772\n",
      "Epoch 37/40\n",
      "15000/15000 [==============================] - 1s 48us/step - loss: 0.2346 - acc: 0.9192 - val_loss: 0.3076 - val_acc: 0.8779\n",
      "Epoch 38/40\n",
      "15000/15000 [==============================] - 1s 62us/step - loss: 0.2290 - acc: 0.9209 - val_loss: 0.3046 - val_acc: 0.8789\n",
      "Epoch 39/40\n",
      "15000/15000 [==============================] - 1s 56us/step - loss: 0.2233 - acc: 0.9228 - val_loss: 0.3023 - val_acc: 0.8799\n",
      "Epoch 40/40\n",
      "15000/15000 [==============================] - 1s 55us/step - loss: 0.2181 - acc: 0.9243 - val_loss: 0.2999 - val_acc: 0.8805\n"
     ]
    }
   ],
   "source": [
    "history = model.fit(partial_x_train,\n",
    "                    partial_y_train,\n",
    "                    epochs=40,\n",
    "                    batch_size=512,\n",
    "                    validation_data=(x_val, y_val),\n",
    "                    verbose=1)"
   ]
  },
  {
   "cell_type": "code",
   "execution_count": 25,
   "metadata": {},
   "outputs": [
    {
     "name": "stdout",
     "output_type": "stream",
     "text": [
      "25000/25000 [==============================] - 1s 34us/step\n",
      "[0.31342159690856936, 0.8712]\n"
     ]
    }
   ],
   "source": [
    "results = model.evaluate(test_data, test_labels)\n",
    "\n",
    "print(results)"
   ]
  },
  {
   "cell_type": "code",
   "execution_count": 26,
   "metadata": {},
   "outputs": [
    {
     "data": {
      "text/plain": [
       "dict_keys(['val_loss', 'val_acc', 'loss', 'acc'])"
      ]
     },
     "execution_count": 26,
     "metadata": {},
     "output_type": "execute_result"
    }
   ],
   "source": [
    "history_dict = history.history\n",
    "history_dict.keys()"
   ]
  },
  {
   "cell_type": "code",
   "execution_count": 27,
   "metadata": {},
   "outputs": [
    {
     "data": {
      "text/plain": [
       "<Figure size 640x480 with 1 Axes>"
      ]
     },
     "metadata": {},
     "output_type": "display_data"
    }
   ],
   "source": [
    "import matplotlib.pyplot as plt\n",
    "\n",
    "acc = history.history['acc']\n",
    "val_acc = history.history['val_acc']\n",
    "loss = history.history['loss']\n",
    "val_loss = history.history['val_loss']\n",
    "\n",
    "epochs = range(1, len(acc) + 1)\n",
    "\n",
    "# \"bo\" is for \"blue dot\"\n",
    "plt.plot(epochs, loss, 'bo', label='Training loss')\n",
    "# b is for \"solid blue line\"\n",
    "plt.plot(epochs, val_loss, 'b', label='Validation loss')\n",
    "plt.title('Training and validation loss')\n",
    "plt.xlabel('Epochs')\n",
    "plt.ylabel('Loss')\n",
    "plt.legend()\n",
    "\n",
    "plt.show()"
   ]
  },
  {
   "cell_type": "code",
   "execution_count": 28,
   "metadata": {},
   "outputs": [
    {
     "data": {
      "image/png": "[encoded data removed]",
      "text/plain": [
       "<Figure size 432x288 with 1 Axes>"
      ]
     },
     "metadata": {},
     "output_type": "display_data"
    }
   ],
   "source": [
    "plt.clf()   # clear figure\n",
    "acc_values = history_dict['acc']\n",
    "val_acc_values = history_dict['val_acc']\n",
    "\n",
    "plt.plot(epochs, acc, 'bo', label='Training acc')\n",
    "plt.plot(epochs, val_acc, 'b', label='Validation acc')\n",
    "plt.title('Training and validation accuracy')\n",
    "plt.xlabel('Epochs')\n",
    "plt.ylabel('Accuracy')\n",
    "plt.legend()\n",
    "\n",
    "plt.show()"
   ]
  },
  {
   "cell_type": "code",
   "execution_count": null,
   "metadata": {},
   "outputs": [],
   "source": []
  }
 ],
 "metadata": {
  "kernelspec": {
   "display_name": "Python 3",
   "language": "python",
   "name": "python3"
  },
  "language_info": {
   "codemirror_mode": {
    "name": "ipython",
    "version": 3
   },
   "file_extension": ".py",
   "mimetype": "text/x-python",
   "name": "python",
   "nbconvert_exporter": "python",
   "pygments_lexer": "ipython3",
   "version": "3.6.5"
  }
 },
 "nbformat": 4,
 "nbformat_minor": 2
}
